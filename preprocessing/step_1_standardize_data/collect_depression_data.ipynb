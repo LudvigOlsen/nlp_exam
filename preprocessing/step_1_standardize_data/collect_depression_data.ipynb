{
 "cells": [
  {
   "cell_type": "markdown",
   "metadata": {},
   "source": [
    "# Collect Depression Data"
   ]
  },
  {
   "cell_type": "markdown",
   "metadata": {},
   "source": [
    "Post notes:\n",
    "\n",
    "* Triangles-2 is supposedly a follow-up study with the same subjects as Triangles-1, but with only the recovered patients. (@Riccardo is this the case?)\n",
    "* Removes one row without subject ID or Task ID\n",
    "* For Triangles-2, the patients had recovered. I added the Recovered column to reflect this. I am unsure if the subject IDs match between Triangles-1 and Triangles-2.\n"
   ]
  },
  {
   "cell_type": "code",
   "execution_count": null,
   "metadata": {},
   "outputs": [],
   "source": [
    "import pandas as pd\n",
    "import numpy as np\n",
    "import ntpath\n",
    "import re\n",
    "from os.path import join"
   ]
  },
  {
   "cell_type": "markdown",
   "metadata": {},
   "source": [
    "### Utilities"
   ]
  },
  {
   "cell_type": "code",
   "execution_count": null,
   "metadata": {},
   "outputs": [],
   "source": [
    "def path_leaf(path):\n",
    "    \"\"\"\n",
    "    Extracts the filename from a path string\n",
    "\n",
    "    \"\"\"\n",
    "    head, tail = ntpath.split(path)\n",
    "    return tail\n"
   ]
  },
  {
   "cell_type": "markdown",
   "metadata": {},
   "source": [
    "### Paths"
   ]
  },
  {
   "cell_type": "code",
   "execution_count": null,
   "metadata": {},
   "outputs": [],
   "source": [
    "data_path = \"\"\n",
    "\n",
    "## Save path\n",
    "save_path = join(data_path, \"preprocessed/Depression-All-DK-Triangles.csv\")\n",
    "\n",
    "## Raw data\n",
    "\n",
    "# csv\n",
    "path_txt_1 = join(data_path, \"raw/DEPR/Depression-Controls-DK-Triangles-2-Sheet1.csv\")\n",
    "path_txt_2 = join(data_path, \"raw/DEPR/Depression-Patients-DK-Triangles-2-Sheet1.csv\")\n",
    "\n",
    "# txt\n",
    "path_txt_3 = join(data_path, \"raw/DEPR/Depression-Triangles-1.txt\")\n",
    "\n"
   ]
  },
  {
   "cell_type": "markdown",
   "metadata": {},
   "source": [
    "## Triangles 2"
   ]
  },
  {
   "cell_type": "markdown",
   "metadata": {},
   "source": [
    "### Load CSV files"
   ]
  },
  {
   "cell_type": "code",
   "execution_count": null,
   "metadata": {},
   "outputs": [],
   "source": [
    "triangles_2_controls = pd.read_csv(path_txt_1)\n",
    "triangles_2_patients = pd.read_csv(path_txt_2)"
   ]
  },
  {
   "cell_type": "code",
   "execution_count": null,
   "metadata": {},
   "outputs": [],
   "source": [
    "triangles_2_controls.head(3)"
   ]
  },
  {
   "cell_type": "code",
   "execution_count": null,
   "metadata": {},
   "outputs": [],
   "source": [
    "triangles_2_patients.head(3)"
   ]
  },
  {
   "cell_type": "markdown",
   "metadata": {},
   "source": [
    "### Add info"
   ]
  },
  {
   "cell_type": "code",
   "execution_count": null,
   "metadata": {},
   "outputs": [],
   "source": [
    "# Add diagnoses\n",
    "triangles_2_controls[\"Diagnosis\"] = \"Control\"\n",
    "triangles_2_patients[\"Diagnosis\"] = \"Depression\""
   ]
  },
  {
   "cell_type": "code",
   "execution_count": null,
   "metadata": {},
   "outputs": [],
   "source": [
    "# Add data file\n",
    "triangles_2_controls[\"File\"] = path_leaf(path_txt_1)\n",
    "triangles_2_patients[\"File\"] = path_leaf(path_txt_2)"
   ]
  },
  {
   "cell_type": "code",
   "execution_count": null,
   "metadata": {},
   "outputs": [],
   "source": [
    "# Add study\n",
    "triangles_2_controls[\"Study\"] = 1\n",
    "triangles_2_patients[\"Study\"] = 1"
   ]
  },
  {
   "cell_type": "code",
   "execution_count": null,
   "metadata": {},
   "outputs": [],
   "source": [
    "triangles_2_controls[\"Recovered\"] = 0\n",
    "triangles_2_patients[\"Recovered\"] = 1"
   ]
  },
  {
   "cell_type": "code",
   "execution_count": null,
   "metadata": {},
   "outputs": [],
   "source": [
    "triangles_2_controls[\"Sub File\"] = None\n",
    "triangles_2_patients[\"Sub File\"] = None"
   ]
  },
  {
   "cell_type": "code",
   "execution_count": null,
   "metadata": {},
   "outputs": [],
   "source": [
    "triangles_2_controls[\"Trial\"] = triangles_2_controls.groupby('Subject\\'').cumcount()+1\n",
    "triangles_2_patients[\"Trial\"] = triangles_2_patients.groupby('Subject\\'').cumcount()+1"
   ]
  },
  {
   "cell_type": "code",
   "execution_count": null,
   "metadata": {},
   "outputs": [],
   "source": [
    "triangles_2_patients.columns"
   ]
  },
  {
   "cell_type": "code",
   "execution_count": null,
   "metadata": {},
   "outputs": [],
   "source": [
    "colnames = [\"Subject\", \"Task\", \"Start Time\", \"Transcript\", \"End Time\", \n",
    "            \"Transcriber\", \"Diagnosis\", \"File\", \"Study\", \"Recovered\", \"Sub File\", \"Trial\"]"
   ]
  },
  {
   "cell_type": "code",
   "execution_count": null,
   "metadata": {},
   "outputs": [],
   "source": [
    "triangles_2_controls.columns = colnames\n",
    "triangles_2_patients.columns = colnames"
   ]
  },
  {
   "cell_type": "code",
   "execution_count": null,
   "metadata": {},
   "outputs": [],
   "source": [
    "triangles_2_patients.head(3)"
   ]
  },
  {
   "cell_type": "markdown",
   "metadata": {},
   "source": [
    "### Reorder columns"
   ]
  },
  {
   "cell_type": "code",
   "execution_count": null,
   "metadata": {},
   "outputs": [],
   "source": [
    "column_order = [\"File\", \"Sub File\", \"Study\", \"Subject\", \"Diagnosis\", \"Recovered\", \"Trial\", \"Task\", \"Transcript\", \n",
    "                \"Start Time\", \"End Time\", \"Transcriber\"]"
   ]
  },
  {
   "cell_type": "code",
   "execution_count": null,
   "metadata": {},
   "outputs": [],
   "source": [
    "triangles_2_controls = triangles_2_controls[column_order]\n",
    "triangles_2_patients = triangles_2_patients[column_order]"
   ]
  },
  {
   "cell_type": "code",
   "execution_count": null,
   "metadata": {},
   "outputs": [],
   "source": [
    "triangles_2 = pd.concat([triangles_2_controls, triangles_2_patients])"
   ]
  },
  {
   "cell_type": "code",
   "execution_count": null,
   "metadata": {},
   "outputs": [],
   "source": [
    "triangles_2"
   ]
  },
  {
   "cell_type": "markdown",
   "metadata": {},
   "source": [
    "### Remove empty tasks"
   ]
  },
  {
   "cell_type": "code",
   "execution_count": null,
   "metadata": {},
   "outputs": [],
   "source": [
    "# Must have at least 9 non-NA values to stay in\n",
    "triangles_2.dropna(axis = 0, thresh = 9, inplace = True)"
   ]
  },
  {
   "cell_type": "code",
   "execution_count": null,
   "metadata": {},
   "outputs": [],
   "source": [
    "# There's one row without a Subject ID or Task ID\n",
    "triangles_2.dropna(subset = ['Subject'], inplace=True)"
   ]
  },
  {
   "cell_type": "code",
   "execution_count": null,
   "metadata": {},
   "outputs": [],
   "source": [
    "triangles_2[\"Task\"] = triangles_2[\"Task\"].astype(int)"
   ]
  },
  {
   "cell_type": "code",
   "execution_count": null,
   "metadata": {
    "scrolled": false
   },
   "outputs": [],
   "source": [
    "triangles_2"
   ]
  },
  {
   "cell_type": "code",
   "execution_count": null,
   "metadata": {},
   "outputs": [],
   "source": [
    "triangles_2.head(10)"
   ]
  },
  {
   "cell_type": "markdown",
   "metadata": {},
   "source": [
    "## Triangles 1"
   ]
  },
  {
   "cell_type": "code",
   "execution_count": null,
   "metadata": {},
   "outputs": [],
   "source": [
    "triangles_1 = pd.read_csv(path_txt_3,sep=\"\\t\")"
   ]
  },
  {
   "cell_type": "code",
   "execution_count": null,
   "metadata": {},
   "outputs": [],
   "source": [
    "triangles_1"
   ]
  },
  {
   "cell_type": "markdown",
   "metadata": {},
   "source": [
    "### Add info"
   ]
  },
  {
   "cell_type": "code",
   "execution_count": null,
   "metadata": {},
   "outputs": [],
   "source": [
    "def extract_group_and_id(w):\n",
    "    # Remove .txt\n",
    "    w = w[:-4]\n",
    "    # Extract group and id\n",
    "    match = re.match(r\"([a-z]+)([0-9]+)\", w, re.I)\n",
    "    if match:\n",
    "        items = match.groups()\n",
    "    else:\n",
    "        items = None\n",
    "    return items"
   ]
  },
  {
   "cell_type": "code",
   "execution_count": null,
   "metadata": {},
   "outputs": [],
   "source": [
    "group_and_id = triangles_1[\"File\"].apply(lambda x: extract_group_and_id(x))"
   ]
  },
  {
   "cell_type": "code",
   "execution_count": null,
   "metadata": {},
   "outputs": [],
   "source": [
    "triangles_1[\"Diagnosis\"] = [\"Control\" if g[0] == \"dc\" else \"Depression\" for g in group_and_id]"
   ]
  },
  {
   "cell_type": "code",
   "execution_count": null,
   "metadata": {},
   "outputs": [],
   "source": [
    "triangles_1[\"Subject\"] = [i[1] for i in group_and_id]"
   ]
  },
  {
   "cell_type": "code",
   "execution_count": null,
   "metadata": {},
   "outputs": [],
   "source": [
    "triangles_1[\"Recovered\"] = 0"
   ]
  },
  {
   "cell_type": "code",
   "execution_count": null,
   "metadata": {},
   "outputs": [],
   "source": [
    "triangles_1[\"Study\"] = 1"
   ]
  },
  {
   "cell_type": "code",
   "execution_count": null,
   "metadata": {},
   "outputs": [],
   "source": [
    "triangles_1[\"Sub File\"] = triangles_1[\"File\"]\n",
    "triangles_1[\"File\"] = path_leaf(path_txt_3)"
   ]
  },
  {
   "cell_type": "code",
   "execution_count": null,
   "metadata": {},
   "outputs": [],
   "source": [
    "triangles_1[\"Trial\"] = triangles_1.groupby('Sub File').cumcount()+1\n",
    "triangles_1[\"Task\"] = np.nan"
   ]
  },
  {
   "cell_type": "code",
   "execution_count": null,
   "metadata": {},
   "outputs": [],
   "source": [
    "triangles_1[\"Transcriber\"] = np.nan"
   ]
  },
  {
   "cell_type": "code",
   "execution_count": null,
   "metadata": {},
   "outputs": [],
   "source": [
    "triangles_1.columns"
   ]
  },
  {
   "cell_type": "code",
   "execution_count": null,
   "metadata": {},
   "outputs": [],
   "source": [
    "triangles_1.columns = [\n",
    "    \"Start Time\", \"Transcript\", \"End Time\", \"File\", \"Diagnosis\", \"Subject\",\n",
    "    \"Recovered\", \"Study\", \"Sub File\", \"Trial\", \"Task\", \"Transcriber\"]"
   ]
  },
  {
   "cell_type": "code",
   "execution_count": null,
   "metadata": {},
   "outputs": [],
   "source": [
    "triangles_1 = triangles_1[\n",
    "    [\n",
    "    \"File\", \"Sub File\", \"Study\", \"Subject\", \"Diagnosis\", \"Recovered\", \"Trial\", \"Task\", \"Transcript\", \n",
    "    \"Start Time\", \"End Time\", \"Transcriber\"\n",
    "    ]\n",
    "]"
   ]
  },
  {
   "cell_type": "code",
   "execution_count": null,
   "metadata": {},
   "outputs": [],
   "source": [
    "triangles_1.head(20)"
   ]
  },
  {
   "cell_type": "markdown",
   "metadata": {},
   "source": [
    "## Collect all three data frames"
   ]
  },
  {
   "cell_type": "code",
   "execution_count": null,
   "metadata": {},
   "outputs": [],
   "source": [
    "all_triangle_data = pd.concat([triangles_1, triangles_2])"
   ]
  },
  {
   "cell_type": "code",
   "execution_count": null,
   "metadata": {},
   "outputs": [],
   "source": [
    "all_triangle_data.reset_index(inplace=True, drop=True)"
   ]
  },
  {
   "cell_type": "code",
   "execution_count": null,
   "metadata": {},
   "outputs": [],
   "source": [
    "all_triangle_data[\"Subject\"] = all_triangle_data[\"Subject\"].astype(int)"
   ]
  },
  {
   "cell_type": "code",
   "execution_count": null,
   "metadata": {},
   "outputs": [],
   "source": [
    "all_triangle_data"
   ]
  },
  {
   "cell_type": "code",
   "execution_count": null,
   "metadata": {},
   "outputs": [],
   "source": [
    "all_triangle_data.to_csv(save_path)"
   ]
  },
  {
   "cell_type": "code",
   "execution_count": null,
   "metadata": {},
   "outputs": [],
   "source": []
  }
 ],
 "metadata": {
  "kernelspec": {
   "display_name": "Python 3",
   "language": "python",
   "name": "python3"
  },
  "language_info": {
   "codemirror_mode": {
    "name": "ipython",
    "version": 3
   },
   "file_extension": ".py",
   "mimetype": "text/x-python",
   "name": "python",
   "nbconvert_exporter": "python",
   "pygments_lexer": "ipython3",
   "version": "3.7.4"
  }
 },
 "nbformat": 4,
 "nbformat_minor": 2
}
