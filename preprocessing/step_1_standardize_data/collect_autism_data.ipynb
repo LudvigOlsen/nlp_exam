{
 "cells": [
  {
   "cell_type": "markdown",
   "metadata": {},
   "source": [
    "# Collect Autism Data"
   ]
  },
  {
   "cell_type": "markdown",
   "metadata": {},
   "source": [
    "Post notes:\n",
    "    \n",
    "* The original data had the column Animation. I've renamed this to task. Importantly, the task order seems to have been randomized. This means that we can't use the Task column as a \"time\" measure. We would need to add a Trial column for that."
   ]
  },
  {
   "cell_type": "code",
   "execution_count": null,
   "metadata": {},
   "outputs": [],
   "source": [
    "import pandas as pd\n",
    "import numpy as np\n",
    "import ntpath\n",
    "import re\n",
    "from os.path import join"
   ]
  },
  {
   "cell_type": "markdown",
   "metadata": {},
   "source": [
    "### Utilities"
   ]
  },
  {
   "cell_type": "code",
   "execution_count": null,
   "metadata": {},
   "outputs": [],
   "source": [
    "def path_leaf(path):\n",
    "    \"\"\"\n",
    "    Extracts the filename from a path string\n",
    "\n",
    "    \"\"\"\n",
    "    head, tail = ntpath.split(path)\n",
    "    return tail\n"
   ]
  },
  {
   "cell_type": "markdown",
   "metadata": {},
   "source": [
    "### Paths"
   ]
  },
  {
   "cell_type": "code",
   "execution_count": null,
   "metadata": {},
   "outputs": [],
   "source": [
    "data_path = \"\"\n",
    "\n",
    "## Save path\n",
    "save_path = join(data_path, \"preprocessed/ASD-Adults-DK-Triangles.csv\")\n",
    "\n",
    "## Raw data\n",
    "\n",
    "# csv\n",
    "path_txt_1 = join(data_path, \"raw/ASD/Asperger-csv-version.csv\")"
   ]
  },
  {
   "cell_type": "markdown",
   "metadata": {},
   "source": [
    "### Load CSV files"
   ]
  },
  {
   "cell_type": "code",
   "execution_count": null,
   "metadata": {},
   "outputs": [],
   "source": [
    "triangles = pd.read_csv(path_txt_1, sep=\";\")"
   ]
  },
  {
   "cell_type": "code",
   "execution_count": null,
   "metadata": {},
   "outputs": [],
   "source": [
    "triangles.head(5)"
   ]
  },
  {
   "cell_type": "code",
   "execution_count": null,
   "metadata": {},
   "outputs": [],
   "source": [
    "triangles[\"Sub File\"] = triangles[\"Diagnosis\"].apply(\n",
    "    lambda x: \"dk_ASD_Adults_Controls_1.doc\" if x == \"Control\"\n",
    "    else \"dk_ASD_Adults_Patients_1.doc\")\n",
    "\n",
    "triangles[\"Trial\"] = triangles.groupby('Subject').cumcount()+1\n",
    "\n",
    "triangles[\"File\"] = path_leaf(path_txt_1)\n",
    "triangles[\"Study\"] = 1\n",
    "triangles[\"Recovered\"] = 0\n",
    "triangles[\"Transcriber\"] = np.nan\n",
    "triangles[\"Start Time\"] = np.nan\n",
    "triangles[\"End Time\"] = np.nan"
   ]
  },
  {
   "cell_type": "code",
   "execution_count": null,
   "metadata": {
    "scrolled": true
   },
   "outputs": [],
   "source": [
    "triangles.head()"
   ]
  },
  {
   "cell_type": "code",
   "execution_count": null,
   "metadata": {},
   "outputs": [],
   "source": [
    "triangles.columns"
   ]
  },
  {
   "cell_type": "code",
   "execution_count": null,
   "metadata": {},
   "outputs": [],
   "source": [
    "triangles.columns = [\n",
    "    \"Subject\", \"Diagnosis\", \"Task\", \"Transcript\",\n",
    "    \"Sub File\", \"Trial\", \"File\", \"Study\", \"Recovered\", \"Transcriber\", \n",
    "     \"Start Time\", \"End Time\",  \n",
    "    ]"
   ]
  },
  {
   "cell_type": "code",
   "execution_count": null,
   "metadata": {},
   "outputs": [],
   "source": [
    "triangles.columns"
   ]
  },
  {
   "cell_type": "code",
   "execution_count": null,
   "metadata": {},
   "outputs": [],
   "source": [
    "triangles = triangles[\n",
    "    [\n",
    "    \"File\", \"Sub File\", \"Study\", \"Subject\", \"Diagnosis\", \"Recovered\", \n",
    "    'Trial', \"Task\", \"Transcript\", \"Start Time\", \"End Time\", \"Transcriber\"\n",
    "    ]\n",
    "]"
   ]
  },
  {
   "cell_type": "code",
   "execution_count": null,
   "metadata": {},
   "outputs": [],
   "source": [
    "triangles[\"Task\"] = triangles[\"Task\"].astype(int)"
   ]
  },
  {
   "cell_type": "code",
   "execution_count": null,
   "metadata": {
    "scrolled": true
   },
   "outputs": [],
   "source": [
    "triangles.head()"
   ]
  },
  {
   "cell_type": "code",
   "execution_count": null,
   "metadata": {},
   "outputs": [],
   "source": [
    "triangles.to_csv(save_path)"
   ]
  },
  {
   "cell_type": "code",
   "execution_count": null,
   "metadata": {},
   "outputs": [],
   "source": []
  }
 ],
 "metadata": {
  "kernelspec": {
   "display_name": "Python 3",
   "language": "python",
   "name": "python3"
  },
  "language_info": {
   "codemirror_mode": {
    "name": "ipython",
    "version": 3
   },
   "file_extension": ".py",
   "mimetype": "text/x-python",
   "name": "python",
   "nbconvert_exporter": "python",
   "pygments_lexer": "ipython3",
   "version": "3.7.4"
  }
 },
 "nbformat": 4,
 "nbformat_minor": 2
}
