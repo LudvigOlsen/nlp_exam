{
 "cells": [
  {
   "cell_type": "markdown",
   "metadata": {},
   "source": [
    "# Collect Schizophrenia Data"
   ]
  },
  {
   "cell_type": "code",
   "execution_count": null,
   "metadata": {},
   "outputs": [],
   "source": [
    "import pandas as pd\n",
    "import numpy as np\n",
    "import ntpath\n",
    "import re\n",
    "from os.path import join"
   ]
  },
  {
   "cell_type": "markdown",
   "metadata": {},
   "source": [
    "### Utilities"
   ]
  },
  {
   "cell_type": "code",
   "execution_count": null,
   "metadata": {},
   "outputs": [],
   "source": [
    "def path_leaf(path):\n",
    "    \"\"\"\n",
    "    Extracts the filename from a path string\n",
    "\n",
    "    \"\"\"\n",
    "    head, tail = ntpath.split(path)\n",
    "    return tail\n"
   ]
  },
  {
   "cell_type": "markdown",
   "metadata": {},
   "source": [
    "### Paths"
   ]
  },
  {
   "cell_type": "code",
   "execution_count": null,
   "metadata": {},
   "outputs": [],
   "source": [
    "data_path = \"\"\n",
    "\n",
    "## Save path\n",
    "save_path = join(data_path, \"preprocessed/Schizophrenia-Adults-DK-Triangles.csv\")\n",
    "\n",
    "## Raw data\n",
    "\n",
    "# csv\n",
    "path_txt_1 = join(data_path, \"raw/SCHZ/Schizophrenia_Adults_DK_triangles-S1-5.csv\")"
   ]
  },
  {
   "cell_type": "markdown",
   "metadata": {},
   "source": [
    "### Load CSV files"
   ]
  },
  {
   "cell_type": "code",
   "execution_count": null,
   "metadata": {},
   "outputs": [],
   "source": [
    "triangles = pd.read_csv(path_txt_1)"
   ]
  },
  {
   "cell_type": "code",
   "execution_count": null,
   "metadata": {},
   "outputs": [],
   "source": [
    "triangles.head(5)"
   ]
  },
  {
   "cell_type": "code",
   "execution_count": null,
   "metadata": {},
   "outputs": [],
   "source": [
    "triangles[\"Diagnosis\"] = triangles[\"Schizophrenia\"].apply(lambda x: \"Control\" if x == 0 else \"Schizophrenia\")"
   ]
  },
  {
   "cell_type": "code",
   "execution_count": null,
   "metadata": {},
   "outputs": [],
   "source": [
    "triangles[\"Sub File\"] = triangles[\"OriginalStudy\"]\n",
    "triangles[\"File\"] = path_leaf(path_txt_1)"
   ]
  },
  {
   "cell_type": "code",
   "execution_count": null,
   "metadata": {},
   "outputs": [],
   "source": [
    "triangles.drop(axis=2,\n",
    "               columns=[\"Schizophrenia\", \"Unnamed: 7\", \n",
    "                        \"Unnamed: 9\", \"Unnamed: 10\", \n",
    "                        \"OriginalStudy\"], \n",
    "               inplace=True)"
   ]
  },
  {
   "cell_type": "code",
   "execution_count": null,
   "metadata": {},
   "outputs": [],
   "source": [
    "triangles.dropna(subset = [\"Study\"], inplace = True)\n",
    "triangles.reset_index(drop = True, inplace = True)"
   ]
  },
  {
   "cell_type": "code",
   "execution_count": null,
   "metadata": {},
   "outputs": [],
   "source": [
    "triangles[\"Recovered\"] = 0\n",
    "triangles[\"Transcriber\"] = np.nan\n",
    "triangles[\"Task\"] = np.nan"
   ]
  },
  {
   "cell_type": "code",
   "execution_count": null,
   "metadata": {
    "scrolled": true
   },
   "outputs": [],
   "source": [
    "triangles.head()"
   ]
  },
  {
   "cell_type": "code",
   "execution_count": null,
   "metadata": {},
   "outputs": [],
   "source": [
    "triangles.columns"
   ]
  },
  {
   "cell_type": "code",
   "execution_count": null,
   "metadata": {},
   "outputs": [],
   "source": [
    "triangles.columns = [\n",
    "    \"Study\", \"Subject\", \"Trial\", \"Start Time\", \"Transcript\",\n",
    "    \"End Time\", \"Diagnosis\", \"Sub File\", \"File\", \n",
    "    \"Recovered\", \"Transcriber\", \"Task\" \n",
    "    ]"
   ]
  },
  {
   "cell_type": "code",
   "execution_count": null,
   "metadata": {},
   "outputs": [],
   "source": [
    "triangles = triangles[\n",
    "    [\n",
    "        \"File\", \"Sub File\", \"Study\", \"Subject\", \"Diagnosis\", \"Recovered\", \n",
    "        \"Trial\", \"Task\", \"Transcript\", \n",
    "        \"Start Time\", \"End Time\", \"Transcriber\"\n",
    "    ]\n",
    "]"
   ]
  },
  {
   "cell_type": "code",
   "execution_count": null,
   "metadata": {},
   "outputs": [],
   "source": [
    "triangles[\"Trial\"] = triangles[\"Trial\"].astype(int)\n",
    "triangles[\"Subject\"] = triangles[\"Subject\"].astype(int)\n",
    "triangles[\"Study\"] = triangles[\"Study\"].astype(int)"
   ]
  },
  {
   "cell_type": "code",
   "execution_count": null,
   "metadata": {
    "scrolled": true
   },
   "outputs": [],
   "source": [
    "triangles.head()"
   ]
  },
  {
   "cell_type": "code",
   "execution_count": null,
   "metadata": {},
   "outputs": [],
   "source": [
    "triangles.to_csv(save_path)"
   ]
  }
 ],
 "metadata": {
  "kernelspec": {
   "display_name": "Python 3",
   "language": "python",
   "name": "python3"
  },
  "language_info": {
   "codemirror_mode": {
    "name": "ipython",
    "version": 3
   },
   "file_extension": ".py",
   "mimetype": "text/x-python",
   "name": "python",
   "nbconvert_exporter": "python",
   "pygments_lexer": "ipython3",
   "version": "3.7.4"
  }
 },
 "nbformat": 4,
 "nbformat_minor": 2
}
