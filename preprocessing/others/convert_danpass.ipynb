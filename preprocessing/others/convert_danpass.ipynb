{
 "cells": [
  {
   "cell_type": "markdown",
   "metadata": {},
   "source": [
    "# Convert DanPASS TextGrids to a useful format"
   ]
  },
  {
   "cell_type": "markdown",
   "metadata": {},
   "source": [
    "Note: I assume there's an easier way to extract text from TextGrid files? Do let me know."
   ]
  },
  {
   "cell_type": "code",
   "execution_count": null,
   "metadata": {},
   "outputs": [],
   "source": [
    "import textgrid as tg\n",
    "from os.path import join, abspath\n",
    "import re\n",
    "import glob\n",
    "import pandas as pd\n",
    "import ntpath"
   ]
  },
  {
   "cell_type": "code",
   "execution_count": null,
   "metadata": {},
   "outputs": [],
   "source": [
    "data_path = \"\"\n",
    "save_path = join(data_path, abspath( join(\n",
    "    data_path, \"../../preprocessed/danpass/\")))"
   ]
  },
  {
   "cell_type": "code",
   "execution_count": null,
   "metadata": {},
   "outputs": [],
   "source": [
    "test_grid_path = join(data_path, \"Corpus_2014_dialogues/d_001_1_f_non-v.TextGrid\")"
   ]
  },
  {
   "cell_type": "code",
   "execution_count": null,
   "metadata": {},
   "outputs": [],
   "source": [
    "dialogue_paths = glob.glob(join(data_path, \"Corpus_2014_dialogues/*.TextGrid\"))\n",
    "monologue_paths = glob.glob(join(data_path, \"Corpus_2014_monologues/*.TextGrid\"))"
   ]
  },
  {
   "cell_type": "code",
   "execution_count": null,
   "metadata": {},
   "outputs": [],
   "source": [
    "def path_leaf(path):\n",
    "    \"\"\"\n",
    "    Extracts the filename from a path string\n",
    "\n",
    "    \"\"\"\n",
    "    head, tail = ntpath.split(path)\n",
    "    return tail"
   ]
  },
  {
   "cell_type": "code",
   "execution_count": null,
   "metadata": {},
   "outputs": [],
   "source": [
    "def extract_text_from_textgrid(path, conv_type = \"dialogue\"):\n",
    "    tgrid = tg.TextGrid()\n",
    "    tgrid.read(f = path)\n",
    "    orto = tgrid.getList(\"ortografi\")\n",
    "    \n",
    "    if (len(orto) > 1):\n",
    "        print(\"Length or ortografi was larger than one. Extracting first element and ignoring rest.\")\n",
    "        \n",
    "    orto = orto[0]\n",
    "    \n",
    "    clean_word = lambda w: re.sub('[,+=]','', w)\n",
    "    filter_flatten = lambda l: [[element, item] for element, sublist in enumerate(l) for item in sublist if item != \"\"]\n",
    "    words = filter_flatten([clean_word(o.mark).split(\"_\") for o in orto])\n",
    "    \n",
    "    times = [[i, float(o.minTime),float(o.maxTime)] for i,o in enumerate(orto)]\n",
    "    #print(times)\n",
    "    \n",
    "    speech_turn_df = pd.DataFrame.from_records(words, columns=['Interval', 'Token'])\n",
    "    speech_turn_df[\"File\"] = path_leaf(path)\n",
    "    speech_turn_df[\"Type\"] = conv_type\n",
    "    \n",
    "    times_df = pd.DataFrame.from_records(times, columns=['Interval', 'Start Time', 'End Time'])\n",
    "    \n",
    "    result_df = pd.merge(speech_turn_df, times_df, on = 'Interval', how = 'left')\n",
    "\n",
    "    return result_df\n"
   ]
  },
  {
   "cell_type": "code",
   "execution_count": null,
   "metadata": {},
   "outputs": [],
   "source": [
    "extract_text_from_textgrid(test_grid_path).head(20)"
   ]
  },
  {
   "cell_type": "code",
   "execution_count": null,
   "metadata": {},
   "outputs": [],
   "source": [
    "all_dialogues = pd.concat([extract_text_from_textgrid(p, \"dialogue\") for p in dialogue_paths])"
   ]
  },
  {
   "cell_type": "code",
   "execution_count": null,
   "metadata": {},
   "outputs": [],
   "source": [
    "all_monologues = pd.concat([extract_text_from_textgrid(p, \"monologue\") for p in monologue_paths])"
   ]
  },
  {
   "cell_type": "code",
   "execution_count": null,
   "metadata": {},
   "outputs": [],
   "source": [
    "all_dialogues.head(5)"
   ]
  },
  {
   "cell_type": "code",
   "execution_count": null,
   "metadata": {},
   "outputs": [],
   "source": [
    "all_monologues"
   ]
  },
  {
   "cell_type": "code",
   "execution_count": null,
   "metadata": {},
   "outputs": [],
   "source": [
    "all_dialogues.to_csv(join(save_path, \"dialogue_tokens.csv\"))\n",
    "all_monologues.to_csv(join(save_path, \"monologue_tokens.csv\"))"
   ]
  },
  {
   "cell_type": "code",
   "execution_count": null,
   "metadata": {},
   "outputs": [],
   "source": []
  }
 ],
 "metadata": {
  "kernelspec": {
   "display_name": "Python 3",
   "language": "python",
   "name": "python3"
  },
  "language_info": {
   "codemirror_mode": {
    "name": "ipython",
    "version": 3
   },
   "file_extension": ".py",
   "mimetype": "text/x-python",
   "name": "python",
   "nbconvert_exporter": "python",
   "pygments_lexer": "ipython3",
   "version": "3.7.4"
  }
 },
 "nbformat": 4,
 "nbformat_minor": 2
}
